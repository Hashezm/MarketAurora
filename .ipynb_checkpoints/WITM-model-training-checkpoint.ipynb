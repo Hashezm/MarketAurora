{
 "cells": [
  {
   "cell_type": "code",
   "execution_count": 6,
   "id": "26b250f5-fc32-42e5-b956-87125790ff0b",
   "metadata": {},
   "outputs": [],
   "source": [
    "import tensorflow as tf\n",
    "from tensorflow.keras.layers import Embedding, LSTM, Bidirectional, Dense, Dropout, SpatialDropout1D\n",
    "from tensorflow.keras.models import Sequential\n",
    "from tensorflow import keras\n",
    "from tensorflow.keras.preprocessing.sequence import pad_sequences\n",
    "\n",
    "from sklearn.model_selection import train_test_split\n",
    "from tensorflow.keras.preprocessing.text import Tokenizer\n",
    "from sklearn.model_selection import KFold\n",
    "from tensorflow.keras.callbacks import EarlyStopping\n",
    "import pandas as pd\n",
    "import numpy as np\n",
    "import re\n",
    "import nltk\n",
    "from nltk.corpus import stopwords\n",
    "from numpy import array\n",
    "from keras.preprocessing.text import one_hot, Tokenizer\n",
    "from tensorflow.keras.preprocessing.sequence import pad_sequences\n",
    "from keras.models import Sequential\n",
    "from keras.layers.core import Activation, Dropout, Dense\n",
    "from keras.layers import Flatten, GlobalMaxPooling1D, Embedding, Conv1D, LSTM\n",
    "from sklearn.model_selection import train_test_split\n",
    "import os\n",
    "from nltk.corpus import stopwords\n",
    "from nltk.tokenize import word_tokenize\n",
    "from keras.utils import plot_model\n",
    "from sklearn.preprocessing import OneHotEncoder\n",
    "from tensorflow.keras.layers import TextVectorization\n",
    "from sklearn.metrics import confusion_matrix, classification_report\n",
    "import string\n",
    "os.environ['TF_CPP_MIN_LOG_LEVEL'] = '3'"
   ]
  },
  {
   "cell_type": "code",
   "execution_count": null,
   "id": "c21b8b4c-9136-4cb2-830f-8e9092629de5",
   "metadata": {},
   "outputs": [],
   "source": [
    "tf.debugging.set_log_device_placement(True)\n",
    "\n",
    "# Create a simple operation to see if tf running on gpu\n",
    "a = tf.constant([[1.0, 2.0], [3.0, 4.0]])\n",
    "b = tf.matmul(a, a)\n",
    "\n",
    "print(b)"
   ]
  },
  {
   "cell_type": "code",
   "execution_count": 8,
   "id": "e16d67d6-0eb5-4ef1-9fde-cb81ec8e192f",
   "metadata": {},
   "outputs": [],
   "source": [
    "df1 =pd.read_csv(\"raw_partner_headlines.csv\")"
   ]
  },
  {
   "cell_type": "code",
   "execution_count": 9,
   "id": "086ec6c5-d3a7-479d-9f43-849ae49a75b3",
   "metadata": {},
   "outputs": [],
   "source": [
    "df = df1"
   ]
  },
  {
   "cell_type": "code",
   "execution_count": 5,
   "id": "083bf4c0-e72f-4a69-b0a9-eae9ace80733",
   "metadata": {},
   "outputs": [],
   "source": [
    "df.drop(columns=[\"url\", \"publisher\", \"date\", \"stock\", \"Unnamed: 0\"], inplace=True)"
   ]
  },
  {
   "cell_type": "code",
   "execution_count": 6,
   "id": "123a3d1c-a966-4261-baba-befe182d9a10",
   "metadata": {},
   "outputs": [
    {
     "data": {
      "text/plain": [
       "(1845559, 1)"
      ]
     },
     "execution_count": 6,
     "metadata": {},
     "output_type": "execute_result"
    }
   ],
   "source": [
    "df.shape"
   ]
  },
  {
   "cell_type": "code",
   "execution_count": 7,
   "id": "6881e874-3efd-470a-8dec-b4b1fbc7db76",
   "metadata": {},
   "outputs": [
    {
     "data": {
      "text/html": [
       "<div>\n",
       "<style scoped>\n",
       "    .dataframe tbody tr th:only-of-type {\n",
       "        vertical-align: middle;\n",
       "    }\n",
       "\n",
       "    .dataframe tbody tr th {\n",
       "        vertical-align: top;\n",
       "    }\n",
       "\n",
       "    .dataframe thead th {\n",
       "        text-align: right;\n",
       "    }\n",
       "</style>\n",
       "<table border=\"1\" class=\"dataframe\">\n",
       "  <thead>\n",
       "    <tr style=\"text-align: right;\">\n",
       "      <th></th>\n",
       "      <th>headline</th>\n",
       "    </tr>\n",
       "  </thead>\n",
       "  <tbody>\n",
       "    <tr>\n",
       "      <th>0</th>\n",
       "      <td>Agilent Technologies Announces Pricing of $5……...</td>\n",
       "    </tr>\n",
       "    <tr>\n",
       "      <th>1</th>\n",
       "      <td>Agilent (A) Gears Up for Q2 Earnings: What's i...</td>\n",
       "    </tr>\n",
       "    <tr>\n",
       "      <th>2</th>\n",
       "      <td>J.P. Morgan Asset Management Announces Liquida...</td>\n",
       "    </tr>\n",
       "    <tr>\n",
       "      <th>3</th>\n",
       "      <td>Pershing Square Capital Management, L.P. Buys ...</td>\n",
       "    </tr>\n",
       "    <tr>\n",
       "      <th>4</th>\n",
       "      <td>Agilent Awards Trilogy Sciences with a Golden ...</td>\n",
       "    </tr>\n",
       "  </tbody>\n",
       "</table>\n",
       "</div>"
      ],
      "text/plain": [
       "                                            headline\n",
       "0  Agilent Technologies Announces Pricing of $5……...\n",
       "1  Agilent (A) Gears Up for Q2 Earnings: What's i...\n",
       "2  J.P. Morgan Asset Management Announces Liquida...\n",
       "3  Pershing Square Capital Management, L.P. Buys ...\n",
       "4  Agilent Awards Trilogy Sciences with a Golden ..."
      ]
     },
     "execution_count": 7,
     "metadata": {},
     "output_type": "execute_result"
    }
   ],
   "source": [
    "df.head()"
   ]
  },
  {
   "cell_type": "markdown",
   "id": "368ef27d-87a5-4161-a0fe-6a2de0ed196d",
   "metadata": {},
   "source": [
    "## preprocess function\n",
    "- tokenize text\n",
    "- convert to lowercase\n",
    "- prepare the set of stop words\n",
    "- remove the punctuation from each token\n",
    "- remove the remaining tokens that are not alphabetic\n",
    "- filter out stop words\n",
    "- rejoin words back to a single string"
   ]
  },
  {
   "cell_type": "code",
   "execution_count": 8,
   "id": "ed5236d4-feb3-468f-8094-e759afe2b0a6",
   "metadata": {},
   "outputs": [],
   "source": [
    "import re\n",
    "import multiprocessing as mp\n",
    "from multiprocessing import Pool, cpu_count\n",
    "from tqdm import tqdm"
   ]
  },
  {
   "cell_type": "code",
   "execution_count": 9,
   "id": "b5f951b3-3044-4411-ad2c-24a32a1075ce",
   "metadata": {},
   "outputs": [
    {
     "data": {
      "text/plain": [
       "['Agilent',\n",
       " 'Technologies',\n",
       " 'Announces',\n",
       " 'Pricing',\n",
       " 'of',\n",
       " '$',\n",
       " '5……',\n",
       " 'Million',\n",
       " 'of',\n",
       " 'Senior',\n",
       " 'Notes']"
      ]
     },
     "execution_count": 9,
     "metadata": {},
     "output_type": "execute_result"
    }
   ],
   "source": [
    "word_tokenize(df['headline'][0])"
   ]
  },
  {
   "cell_type": "code",
   "execution_count": null,
   "id": "1686aad7-7214-4ff2-b66d-248d5ec03269",
   "metadata": {},
   "outputs": [],
   "source": [
    "nltk.download('stopwords')"
   ]
  },
  {
   "cell_type": "code",
   "execution_count": 10,
   "id": "d166bb0a-2e8c-41f1-922f-9f9efbea1181",
   "metadata": {},
   "outputs": [],
   "source": [
    "def preprocess(text):\n",
    "    \n",
    "    text = text.lower()\n",
    "\n",
    "    # remove punctuations and numbers \n",
    "    text = re.sub('[^a-zA-Z]', ' ', text)\n",
    "    \n",
    "    text = re.sub(r\"\\s+[a-zA-Z]\\s+\", ' ', text) #when we remove apostrophe, is it replaced by a white space\n",
    "\n",
    "    # remove all single characters and replace it by a space\n",
    "    text = re.sub(r'\\s+', ' ', text)\n",
    "\n",
    "    # remove stopwords\n",
    "    stop_words = stopwords.words('english')\n",
    "    pattern = re.compile(r'\\b(' + r'|'.join(stop_words) + r')\\b\\s*')\n",
    "\n",
    "    text = pattern.sub('', text)\n",
    "    return text\n",
    "\n"
   ]
  },
  {
   "cell_type": "code",
   "execution_count": null,
   "id": "3e54f21e-2a96-40be-97a6-a036c537c257",
   "metadata": {},
   "outputs": [],
   "source": [
    "for i in range(10):\n",
    "    print(df['headline'][i])\n",
    "    print(preprocess(df['headline'][i]))"
   ]
  },
  {
   "cell_type": "code",
   "execution_count": 31,
   "id": "21ef293c-c446-4c8d-83cb-47869f4c46a8",
   "metadata": {},
   "outputs": [],
   "source": [
    "# Function to apply the cleaning in parallel\n",
    "# def parallel_apply_clean(data, num_cores):\n",
    "#     data_split = np.array_split(data, num_cores)\n",
    "#     pool = Pool(num_cores)\n",
    "#     result = pd.concat(pool.map(clean_text_list, data_split))\n",
    "#     pool.close()\n",
    "#     pool.join()\n",
    "#     return result\n",
    "# def clean_text_list(text_list):\n",
    "#     return text_list.apply(clean_text)\n",
    "# Apply cleaning function in parallel\n",
    "# if __name__ == '__main__':\n",
    "#     num_cores = cpu_count()\n",
    "    \n",
    "#     # Apply the parallel cleaning\n",
    "#     df['processed_headline'] = parallel_apply_clean(df['headline'], num_cores)\n",
    "\n",
    "#     print(df.head())"
   ]
  },
  {
   "cell_type": "code",
   "execution_count": 20,
   "id": "6ab6b6f9-285a-4118-9fef-fd4a0211fc4a",
   "metadata": {},
   "outputs": [],
   "source": [
    "df = df.drop_duplicates()"
   ]
  },
  {
   "cell_type": "code",
   "execution_count": 14,
   "id": "380175b4-c170-47dd-a6b9-6043ea1e2337",
   "metadata": {},
   "outputs": [],
   "source": [
    "df_small = df.sample(n=1000)"
   ]
  },
  {
   "cell_type": "code",
   "execution_count": 15,
   "id": "687ccee7-e076-499d-a32d-3b4d089bee31",
   "metadata": {},
   "outputs": [
    {
     "data": {
      "text/html": [
       "<div>\n",
       "<style scoped>\n",
       "    .dataframe tbody tr th:only-of-type {\n",
       "        vertical-align: middle;\n",
       "    }\n",
       "\n",
       "    .dataframe tbody tr th {\n",
       "        vertical-align: top;\n",
       "    }\n",
       "\n",
       "    .dataframe thead th {\n",
       "        text-align: right;\n",
       "    }\n",
       "</style>\n",
       "<table border=\"1\" class=\"dataframe\">\n",
       "  <thead>\n",
       "    <tr style=\"text-align: right;\">\n",
       "      <th></th>\n",
       "      <th>headline</th>\n",
       "    </tr>\n",
       "  </thead>\n",
       "  <tbody>\n",
       "    <tr>\n",
       "      <th>269694</th>\n",
       "      <td>Clear Channel Outdoor Holdings' (CCO) CEO Rich...</td>\n",
       "    </tr>\n",
       "    <tr>\n",
       "      <th>565080</th>\n",
       "      <td>A Review Of Master Limited Partnerships</td>\n",
       "    </tr>\n",
       "    <tr>\n",
       "      <th>306951</th>\n",
       "      <td>Cramer's 'Mad Money' Recap: Tomorrow Is Anothe...</td>\n",
       "    </tr>\n",
       "    <tr>\n",
       "      <th>223788</th>\n",
       "      <td>QLogic Still Leads the Pack - Analyst Blog</td>\n",
       "    </tr>\n",
       "    <tr>\n",
       "      <th>515926</th>\n",
       "      <td>Syneron Medical (ELOS) Q4 2014 Results - Earni...</td>\n",
       "    </tr>\n",
       "  </tbody>\n",
       "</table>\n",
       "</div>"
      ],
      "text/plain": [
       "                                                 headline\n",
       "269694  Clear Channel Outdoor Holdings' (CCO) CEO Rich...\n",
       "565080            A Review Of Master Limited Partnerships\n",
       "306951  Cramer's 'Mad Money' Recap: Tomorrow Is Anothe...\n",
       "223788         QLogic Still Leads the Pack - Analyst Blog\n",
       "515926  Syneron Medical (ELOS) Q4 2014 Results - Earni..."
      ]
     },
     "execution_count": 15,
     "metadata": {},
     "output_type": "execute_result"
    }
   ],
   "source": [
    "df_small.head()"
   ]
  },
  {
   "cell_type": "code",
   "execution_count": 29,
   "id": "f679662a-f5e2-4275-a183-0f5cb1bf8bd3",
   "metadata": {},
   "outputs": [
    {
     "name": "stderr",
     "output_type": "stream",
     "text": [
      "C:\\Users\\Hhalo\\AppData\\Local\\Temp\\ipykernel_1824\\786165565.py:1: SettingWithCopyWarning: \n",
      "A value is trying to be set on a copy of a slice from a DataFrame.\n",
      "Try using .loc[row_indexer,col_indexer] = value instead\n",
      "\n",
      "See the caveats in the documentation: https://pandas.pydata.org/pandas-docs/stable/user_guide/indexing.html#returning-a-view-versus-a-copy\n",
      "  df['headline'] = df['headline'].apply(preprocess)\n"
     ]
    }
   ],
   "source": [
    "df['headline'] = df['headline'].apply(preprocess)"
   ]
  },
  {
   "cell_type": "code",
   "execution_count": 32,
   "id": "0583d82d-b412-425a-baeb-55a75e03b415",
   "metadata": {},
   "outputs": [],
   "source": [
    "dfCOPY = df.copy()"
   ]
  },
  {
   "cell_type": "code",
   "execution_count": 34,
   "id": "503b8a88-bf2e-4642-a5b0-aafa26a58185",
   "metadata": {},
   "outputs": [
    {
     "name": "stderr",
     "output_type": "stream",
     "text": [
      "[nltk_data] Downloading package vader_lexicon to\n",
      "[nltk_data]     C:\\Users\\Hhalo\\AppData\\Roaming\\nltk_data...\n",
      "[nltk_data]   Package vader_lexicon is already up-to-date!\n"
     ]
    }
   ],
   "source": [
    "from nltk.sentiment.vader import SentimentIntensityAnalyzer\n",
    "\n",
    "#vader lexicon to analyze sentiment\n",
    "nltk.download('vader_lexicon')\n",
    "def categorize_headline(headline):\n",
    "    sentiment_score = sia.polarity_scores(headline)['compound'] \n",
    "    if sentiment_score > 0.09:\n",
    "        return \"Positive\"\n",
    "    elif sentiment_score < -0.09:\n",
    "        return \"Negative\"\n",
    "    else:\n",
    "        return \"Neutral\"\n",
    "\n",
    "sia = SentimentIntensityAnalyzer()"
   ]
  },
  {
   "cell_type": "code",
   "execution_count": 38,
   "id": "c97e6d36-fc71-4c0c-b710-53c29df3bbc5",
   "metadata": {},
   "outputs": [
    {
     "name": "stderr",
     "output_type": "stream",
     "text": [
      "C:\\Users\\Hhalo\\AppData\\Local\\Temp\\ipykernel_1824\\880753655.py:2: SettingWithCopyWarning: \n",
      "A value is trying to be set on a copy of a slice from a DataFrame.\n",
      "Try using .loc[row_indexer,col_indexer] = value instead\n",
      "\n",
      "See the caveats in the documentation: https://pandas.pydata.org/pandas-docs/stable/user_guide/indexing.html#returning-a-view-versus-a-copy\n",
      "  df[\"sentiment\"] = sentiment\n"
     ]
    },
    {
     "data": {
      "text/html": [
       "<div>\n",
       "<style scoped>\n",
       "    .dataframe tbody tr th:only-of-type {\n",
       "        vertical-align: middle;\n",
       "    }\n",
       "\n",
       "    .dataframe tbody tr th {\n",
       "        vertical-align: top;\n",
       "    }\n",
       "\n",
       "    .dataframe thead th {\n",
       "        text-align: right;\n",
       "    }\n",
       "</style>\n",
       "<table border=\"1\" class=\"dataframe\">\n",
       "  <thead>\n",
       "    <tr style=\"text-align: right;\">\n",
       "      <th></th>\n",
       "      <th>headline</th>\n",
       "      <th>label</th>\n",
       "      <th>sentiment</th>\n",
       "    </tr>\n",
       "  </thead>\n",
       "  <tbody>\n",
       "    <tr>\n",
       "      <th>0</th>\n",
       "      <td>agilent technologies announces pricing million...</td>\n",
       "      <td>Neutral</td>\n",
       "      <td>Neutral</td>\n",
       "    </tr>\n",
       "    <tr>\n",
       "      <th>1</th>\n",
       "      <td>agilent gears earnings cards</td>\n",
       "      <td>Neutral</td>\n",
       "      <td>Neutral</td>\n",
       "    </tr>\n",
       "    <tr>\n",
       "      <th>2</th>\n",
       "      <td>j morgan asset management announces liquidatio...</td>\n",
       "      <td>Positive</td>\n",
       "      <td>Positive</td>\n",
       "    </tr>\n",
       "    <tr>\n",
       "      <th>3</th>\n",
       "      <td>pershing square capital management p buys agil...</td>\n",
       "      <td>Neutral</td>\n",
       "      <td>Neutral</td>\n",
       "    </tr>\n",
       "    <tr>\n",
       "      <th>4</th>\n",
       "      <td>agilent awards trilogy sciences golden ticket ...</td>\n",
       "      <td>Positive</td>\n",
       "      <td>Positive</td>\n",
       "    </tr>\n",
       "  </tbody>\n",
       "</table>\n",
       "</div>"
      ],
      "text/plain": [
       "                                            headline     label sentiment\n",
       "0  agilent technologies announces pricing million...   Neutral   Neutral\n",
       "1                      agilent gears earnings cards    Neutral   Neutral\n",
       "2  j morgan asset management announces liquidatio...  Positive  Positive\n",
       "3  pershing square capital management p buys agil...   Neutral   Neutral\n",
       "4  agilent awards trilogy sciences golden ticket ...  Positive  Positive"
      ]
     },
     "execution_count": 38,
     "metadata": {},
     "output_type": "execute_result"
    }
   ],
   "source": [
    "sentiment = [categorize_headline(headline) for headline in df[\"headline\"]] #analyze sentiment for each headline from nltk and add to df\n",
    "df[\"sentiment\"] = sentiment\n",
    "df.head()"
   ]
  },
  {
   "cell_type": "code",
   "execution_count": 40,
   "id": "aad69263-40c4-4166-9329-886e25bf30dc",
   "metadata": {},
   "outputs": [
    {
     "name": "stderr",
     "output_type": "stream",
     "text": [
      "C:\\Users\\Hhalo\\AppData\\Local\\Temp\\ipykernel_1824\\2593565911.py:1: SettingWithCopyWarning: \n",
      "A value is trying to be set on a copy of a slice from a DataFrame\n",
      "\n",
      "See the caveats in the documentation: https://pandas.pydata.org/pandas-docs/stable/user_guide/indexing.html#returning-a-view-versus-a-copy\n",
      "  df.drop(columns='label',inplace=True)\n"
     ]
    },
    {
     "data": {
      "text/html": [
       "<div>\n",
       "<style scoped>\n",
       "    .dataframe tbody tr th:only-of-type {\n",
       "        vertical-align: middle;\n",
       "    }\n",
       "\n",
       "    .dataframe tbody tr th {\n",
       "        vertical-align: top;\n",
       "    }\n",
       "\n",
       "    .dataframe thead th {\n",
       "        text-align: right;\n",
       "    }\n",
       "</style>\n",
       "<table border=\"1\" class=\"dataframe\">\n",
       "  <thead>\n",
       "    <tr style=\"text-align: right;\">\n",
       "      <th></th>\n",
       "      <th>headline</th>\n",
       "      <th>sentiment</th>\n",
       "    </tr>\n",
       "  </thead>\n",
       "  <tbody>\n",
       "    <tr>\n",
       "      <th>0</th>\n",
       "      <td>agilent technologies announces pricing million...</td>\n",
       "      <td>Neutral</td>\n",
       "    </tr>\n",
       "    <tr>\n",
       "      <th>1</th>\n",
       "      <td>agilent gears earnings cards</td>\n",
       "      <td>Neutral</td>\n",
       "    </tr>\n",
       "    <tr>\n",
       "      <th>2</th>\n",
       "      <td>j morgan asset management announces liquidatio...</td>\n",
       "      <td>Positive</td>\n",
       "    </tr>\n",
       "    <tr>\n",
       "      <th>3</th>\n",
       "      <td>pershing square capital management p buys agil...</td>\n",
       "      <td>Neutral</td>\n",
       "    </tr>\n",
       "    <tr>\n",
       "      <th>4</th>\n",
       "      <td>agilent awards trilogy sciences golden ticket ...</td>\n",
       "      <td>Positive</td>\n",
       "    </tr>\n",
       "  </tbody>\n",
       "</table>\n",
       "</div>"
      ],
      "text/plain": [
       "                                            headline sentiment\n",
       "0  agilent technologies announces pricing million...   Neutral\n",
       "1                      agilent gears earnings cards    Neutral\n",
       "2  j morgan asset management announces liquidatio...  Positive\n",
       "3  pershing square capital management p buys agil...   Neutral\n",
       "4  agilent awards trilogy sciences golden ticket ...  Positive"
      ]
     },
     "execution_count": 40,
     "metadata": {},
     "output_type": "execute_result"
    }
   ],
   "source": [
    "df.drop(columns='sentiment',inplace=True)\n",
    "df.head()"
   ]
  },
  {
   "cell_type": "code",
   "execution_count": 44,
   "id": "627bbdb6-b7ac-4108-b47c-d1e5a8c75c52",
   "metadata": {},
   "outputs": [
    {
     "data": {
      "text/plain": [
       "<Axes: xlabel='sentiment', ylabel='count'>"
      ]
     },
     "execution_count": 44,
     "metadata": {},
     "output_type": "execute_result"
    },
    {
     "data": {
      "image/png": "[encoded data removed]",
      "text/plain": [
       "<Figure size 640x480 with 1 Axes>"
      ]
     },
     "metadata": {},
     "output_type": "display_data"
    }
   ],
   "source": [
    "import seaborn as sns\n",
    "sns.countplot(x='sentiment', data=df)"
   ]
  },
  {
   "cell_type": "code",
   "execution_count": 45,
   "id": "2bee07e4-60e9-43fa-9d3b-2706312335a5",
   "metadata": {},
   "outputs": [
    {
     "data": {
      "text/plain": [
       "sentiment\n",
       "Neutral     429900\n",
       "Positive    266575\n",
       "Negative    110523\n",
       "Name: count, dtype: int64"
      ]
     },
     "execution_count": 45,
     "metadata": {},
     "output_type": "execute_result"
    }
   ],
   "source": [
    "df.value_counts('sentiment')"
   ]
  },
  {
   "cell_type": "markdown",
   "id": "3bf72845-d407-4ada-8cd0-214c3fa6ac46",
   "metadata": {},
   "source": [
    "### ensure balance in sentiment"
   ]
  },
  {
   "cell_type": "code",
   "execution_count": 49,
   "id": "fd778989-269a-4267-ae3d-b433ec8c039d",
   "metadata": {},
   "outputs": [
    {
     "data": {
      "text/plain": [
       "sentiment\n",
       "Neutral     110523\n",
       "Positive    110523\n",
       "Negative    110523\n",
       "Name: count, dtype: int64"
      ]
     },
     "execution_count": 49,
     "metadata": {},
     "output_type": "execute_result"
    }
   ],
   "source": [
    "# get lowest count (negative based on figure above), so we can match the other sentiments and balance the dataset\n",
    "neg_count = df['sentiment'].value_counts()['Negative']\n",
    "# make sure samples are random\n",
    "pos_sample = df[df['sentiment'] == 'Positive'].sample(n=neg_count, random_state=1)\n",
    "neutral_sample = df[df['sentiment'] == 'Neutral'].sample(n=neg_count, random_state=1)\n",
    "\n",
    "# use all negative samples since it is the lowest number\n",
    "neg_sample = df[df['sentiment'] == 'Negative']\n",
    "\n",
    "# concatonate and balance and shuffle\n",
    "balanced_df = pd.concat([pos_sample, neutral_sample, neg_sample])\n",
    "df = balanced_df.sample(frac=1).reset_index(drop=True)\n",
    "df['sentiment'].value_counts() # nice"
   ]
  },
  {
   "cell_type": "code",
   "execution_count": 53,
   "id": "89a45240-9ed0-4fda-8dbf-67ecb15c0178",
   "metadata": {},
   "outputs": [],
   "source": [
    "# shuffle dataframe again and reset index\n",
    "df = df.sample(frac=1).reset_index(drop=True)\n",
    "df_IMPORTANT = df.copy()"
   ]
  },
  {
   "cell_type": "markdown",
   "id": "e4491eab-a350-4ce9-99d3-3881cc4da181",
   "metadata": {},
   "source": [
    "# CHECKPOINT PROCESSED AND BALANCED DATA! WILL EMBED MANUALLY NOW TO CREATE WEIGHTS IN A VECTOR SPACE"
   ]
  },
  {
   "cell_type": "code",
   "execution_count": 10,
   "id": "0750821c-ceaf-4225-a409-4be35b4a6b6d",
   "metadata": {},
   "outputs": [],
   "source": [
    "# we will create percentile length of headline based on average length \n",
    "df['headline_len'] = df['headline'].apply(len)\n",
    "average_length = df['headline_len'].mean()\n",
    "percentile_len = df['headline_len'].quantile(0.85)\n",
    "df = df.drop(columns=['headline_len'])"
   ]
  },
  {
   "cell_type": "code",
   "execution_count": 11,
   "id": "ea361024-8526-4706-a13f-4150e4b966cb",
   "metadata": {},
   "outputs": [
    {
     "data": {
      "text/plain": [
       "78.0"
      ]
     },
     "execution_count": 11,
     "metadata": {},
     "output_type": "execute_result"
    }
   ],
   "source": [
    "percentile_len"
   ]
  },
  {
   "cell_type": "code",
   "execution_count": 57,
   "id": "6a167938-6ee0-4cc4-bb87-43a9f3f3b2ae",
   "metadata": {},
   "outputs": [],
   "source": [
    "# one hot encoder, text vectorization\n",
    "one_hot_encoder = OneHotEncoder(\n",
    "    sparse_output=False\n",
    ")\n",
    "\n",
    "text_vectorization = TextVectorization(\n",
    "    max_tokens=68000,\n",
    "    output_sequence_length=int(percentile_len)\n",
    ")"
   ]
  },
  {
   "cell_type": "code",
   "execution_count": 60,
   "id": "de27ec7d-d8b0-45c8-8dde-9c2ac0d6e8f1",
   "metadata": {},
   "outputs": [
    {
     "data": {
      "text/plain": [
       "76664    fda grants exemption cellectar import alert cl...\n",
       "Name: headline, dtype: object"
      ]
     },
     "execution_count": 60,
     "metadata": {},
     "output_type": "execute_result"
    }
   ],
   "source": [
    "# training, validation, testing\n",
    "X_train, X_temp, y_train, y_temp = train_test_split(df[\"headline\"], df[\"sentiment\"], test_size=0.2, stratify=df[\"sentiment\"], random_state=42)\n",
    "X_val, X_test, y_val, y_test = train_test_split(X_temp, y_temp, test_size=0.5, stratify=y_temp, random_state=42)\n",
    "X_train[:1]"
   ]
  },
  {
   "cell_type": "code",
   "execution_count": 99,
   "id": "8c42cd9c-7441-425a-b7bc-dc029e7c3780",
   "metadata": {},
   "outputs": [
    {
     "data": {
      "text/plain": [
       "array([[0., 0., 1.],\n",
       "       [0., 1., 0.],\n",
       "       [0., 0., 1.],\n",
       "       ...,\n",
       "       [0., 1., 0.],\n",
       "       [0., 0., 1.],\n",
       "       [0., 0., 1.]])"
      ]
     },
     "execution_count": 99,
     "metadata": {},
     "output_type": "execute_result"
    }
   ],
   "source": [
    "# one hot encoding y \n",
    "y_train_encoded = one_hot_encoder.fit_transform(\n",
    "    y_train.to_numpy().reshape(-1, 1)\n",
    ")\n",
    "y_val_encoded = one_hot_encoder.transform(\n",
    "    y_val.to_numpy().reshape(-1, 1)\n",
    ")\n",
    "y_test_encoded = one_hot_encoder.transform(\n",
    "    y_test.to_numpy().reshape(-1, 1)\n",
    ")\n",
    "y_train_encoded"
   ]
  },
  {
   "cell_type": "code",
   "execution_count": 101,
   "id": "35ec36ab-fd1c-44ef-a7c1-672d85fdd776",
   "metadata": {},
   "outputs": [
    {
     "data": {
      "text/plain": [
       "[array(['Negative', 'Neutral', 'Positive'], dtype=object)]"
      ]
     },
     "execution_count": 101,
     "metadata": {},
     "output_type": "execute_result"
    }
   ],
   "source": [
    "one_hot_encoder.categories_"
   ]
  },
  {
   "cell_type": "code",
   "execution_count": 63,
   "id": "e781bd53-336d-4fd2-a751-8bb4c7e5deea",
   "metadata": {},
   "outputs": [],
   "source": [
    "from tensorflow.keras import layers\n",
    "# adapt vectorization\n",
    "text_vectorization.adapt(X_train)\n",
    "text_vocab = text_vectorization.get_vocabulary()\n",
    "token_embed = layers.Embedding(\n",
    "    input_dim=len(text_vocab),\n",
    "    output_dim=128,\n",
    "    mask_zero=True,\n",
    "    name=\"token_embedding\"\n",
    ")"
   ]
  },
  {
   "cell_type": "code",
   "execution_count": 64,
   "id": "46867294-5a37-4001-afd5-f4a0db05bb1b",
   "metadata": {},
   "outputs": [
    {
     "name": "stdout",
     "output_type": "stream",
     "text": [
      "Model: \"model\"\n",
      "_________________________________________________________________\n",
      " Layer (type)                Output Shape              Param #   \n",
      "=================================================================\n",
      " input_layer (InputLayer)    [(None, 1)]               0         \n",
      "                                                                 \n",
      " text_vectorization (TextVec  (None, 66)               0         \n",
      " torization)                                                     \n",
      "                                                                 \n",
      " token_embedding (Embedding)  (None, 66, 128)          6306560   \n",
      "                                                                 \n",
      " conv1d (Conv1D)             (None, 66, 64)            41024     \n",
      "                                                                 \n",
      " global_max_pooling1d (Globa  (None, 64)               0         \n",
      " lMaxPooling1D)                                                  \n",
      "                                                                 \n",
      " output_layer (Dense)        (None, 3)                 195       \n",
      "                                                                 \n",
      "=================================================================\n",
      "Total params: 6,347,779\n",
      "Trainable params: 6,347,779\n",
      "Non-trainable params: 0\n",
      "_________________________________________________________________\n"
     ]
    }
   ],
   "source": [
    "# model:\n",
    "inputs = layers.Input(shape=(1,), dtype=tf.string, name=\"input_layer\")\n",
    "text_vectors = text_vectorization(inputs)\n",
    "token_embeddings = token_embed(text_vectors)\n",
    "x = layers.Conv1D(filters=64, kernel_size=5, padding=\"same\", activation=\"relu\")(token_embeddings)\n",
    "x = layers.GlobalMaxPooling1D()(x)\n",
    "outputs = layers.Dense(3, activation=\"softmax\", name=\"output_layer\")(x)\n",
    "\n",
    "model = tf.keras.models.Model(inputs=inputs, outputs=outputs)\n",
    "model.summary()"
   ]
  },
  {
   "cell_type": "code",
   "execution_count": 66,
   "id": "a5cb3649-1382-4581-8dab-ff2bb0863bd6",
   "metadata": {},
   "outputs": [],
   "source": [
    "# model checkpoint callback, not my own idea: credit : https://www.youtube.com/watch?v=oWo9SNcyxl\n",
    "def create_model_checkpoint(model_name, save_path=\"model_experiments\"):\n",
    "    return tf.keras.callbacks.ModelCheckpoint(\n",
    "        filepath=os.path.join(save_path, model_name),\n",
    "        verbose=0,\n",
    "        save_best_only=True,\n",
    "        monitor='val_loss'\n",
    "    )"
   ]
  },
  {
   "cell_type": "code",
   "execution_count": 67,
   "id": "713c7c7f-65d0-4f72-a0a3-788742b321ac",
   "metadata": {},
   "outputs": [],
   "source": [
    "model.compile(\n",
    "    loss='categorical_crossentropy',\n",
    "    optimizer='adam',\n",
    "    metrics=['accuracy']\n",
    ")"
   ]
  },
  {
   "cell_type": "code",
   "execution_count": 68,
   "id": "90e9c55e-d998-4e2d-88d9-5bf37f067f04",
   "metadata": {},
   "outputs": [
    {
     "name": "stdout",
     "output_type": "stream",
     "text": [
      "Epoch 1/5\n",
      "8282/8290 [============================>.] - ETA: 0s - loss: 0.1231 - accuracy: 0.9611"
     ]
    },
    {
     "name": "stderr",
     "output_type": "stream",
     "text": [
      "WARNING:absl:Found untraced functions such as _jit_compiled_convolution_op while saving (showing 1 of 1). These functions will not be directly callable after loading.\n"
     ]
    },
    {
     "name": "stdout",
     "output_type": "stream",
     "text": [
      "INFO:tensorflow:Assets written to: model_experiments\\news_sentiment_model\\assets\n"
     ]
    },
    {
     "name": "stderr",
     "output_type": "stream",
     "text": [
      "INFO:tensorflow:Assets written to: model_experiments\\news_sentiment_model\\assets\n"
     ]
    },
    {
     "name": "stdout",
     "output_type": "stream",
     "text": [
      "8290/8290 [==============================] - 57s 6ms/step - loss: 0.1231 - accuracy: 0.9611 - val_loss: 0.0567 - val_accuracy: 0.9837\n",
      "Epoch 2/5\n",
      "8284/8290 [============================>.] - ETA: 0s - loss: 0.0313 - accuracy: 0.9903"
     ]
    },
    {
     "name": "stderr",
     "output_type": "stream",
     "text": [
      "WARNING:absl:Found untraced functions such as _jit_compiled_convolution_op while saving (showing 1 of 1). These functions will not be directly callable after loading.\n"
     ]
    },
    {
     "name": "stdout",
     "output_type": "stream",
     "text": [
      "INFO:tensorflow:Assets written to: model_experiments\\news_sentiment_model\\assets\n"
     ]
    },
    {
     "name": "stderr",
     "output_type": "stream",
     "text": [
      "INFO:tensorflow:Assets written to: model_experiments\\news_sentiment_model\\assets\n"
     ]
    },
    {
     "name": "stdout",
     "output_type": "stream",
     "text": [
      "8290/8290 [==============================] - 46s 6ms/step - loss: 0.0314 - accuracy: 0.9903 - val_loss: 0.0551 - val_accuracy: 0.9841\n",
      "Epoch 3/5\n",
      "8290/8290 [==============================] - 46s 6ms/step - loss: 0.0127 - accuracy: 0.9958 - val_loss: 0.0630 - val_accuracy: 0.9848\n",
      "Epoch 4/5\n",
      "8290/8290 [==============================] - 45s 5ms/step - loss: 0.0066 - accuracy: 0.9980 - val_loss: 0.0707 - val_accuracy: 0.9857\n",
      "Epoch 5/5\n",
      "8290/8290 [==============================] - 45s 5ms/step - loss: 0.0042 - accuracy: 0.9987 - val_loss: 0.0845 - val_accuracy: 0.9852\n"
     ]
    }
   ],
   "source": [
    "# model fit with callback\n",
    "history = model.fit(\n",
    "    X_train, y_train_encoded,\n",
    "    validation_data=(X_val, y_val_encoded),\n",
    "    epochs=5,\n",
    "    callbacks=[create_model_checkpoint(\"news_sentiment_model\")]\n",
    ")"
   ]
  },
  {
   "cell_type": "code",
   "execution_count": 70,
   "id": "14fa5199-bdd7-49c1-bb4f-316aa087986b",
   "metadata": {},
   "outputs": [
    {
     "name": "stdout",
     "output_type": "stream",
     "text": [
      "1037/1037 [==============================] - 6s 6ms/step - loss: 0.0546 - accuracy: 0.9835\n",
      "Test loss: 0.0546, Test accuracy: 0.9835329055786133\n",
      "\n",
      "1037/1037 [==============================] - 3s 3ms/step\n",
      "\n",
      "              precision    recall  f1-score   support\n",
      "\n",
      "    Negative       0.99      0.98      0.98     11052\n",
      "     Neutral       0.98      0.98      0.98     11053\n",
      "    Positive       0.98      0.99      0.99     11052\n",
      "\n",
      "    accuracy                           0.98     33157\n",
      "   macro avg       0.98      0.98      0.98     33157\n",
      "weighted avg       0.98      0.98      0.98     33157\n",
      "\n"
     ]
    },
    {
     "data": {
      "image/png": "[encoded data removed]",
      "text/plain": [
       "<Figure size 1000x700 with 2 Axes>"
      ]
     },
     "metadata": {},
     "output_type": "display_data"
    }
   ],
   "source": [
    "# evaluating model on test set, making predictions, creating and plotting confusion matrix (with sns)\n",
    "import matplotlib.pyplot as plt\n",
    "best_model_path = os.path.join(\"model_experiments\", \"news_sentiment_model\")\n",
    "model.load_weights(best_model_path)\n",
    "\n",
    "test_loss, test_acc = model.evaluate(X_test, y_test_encoded)\n",
    "print(f\"Test loss: {test_loss:.4f}, Test accuracy: {test_acc}\\n\")\n",
    "\n",
    "predictions = model.predict(X_test)\n",
    "predicted_classes = np.argmax(predictions, axis=1)\n",
    "true_classes = np.argmax(y_test_encoded, axis=1)\n",
    "\n",
    "report = classification_report(\n",
    "    true_classes, predicted_classes,\n",
    "    target_names=one_hot_encoder.categories_[0]\n",
    ")\n",
    "print()\n",
    "print(report)\n",
    "\n",
    "cm = confusion_matrix(true_classes, predicted_classes)\n",
    "\n",
    "plt.figure(figsize=(10, 7))\n",
    "sns.heatmap(cm, annot=True, fmt='g', cmap=\"Blues\", xticklabels=one_hot_encoder.categories_[0], yticklabels=one_hot_encoder.categories_[0])\n",
    "plt.xlabel(\"Predicted labels\")\n",
    "plt.ylabel(\"True labels\")\n",
    "plt.title(\"Confusion Matrix\")\n",
    "plt.show();"
   ]
  },
  {
   "cell_type": "code",
   "execution_count": 102,
   "id": "dd55aa86-6f55-4b74-b3be-0ba6ff9331fe",
   "metadata": {},
   "outputs": [
    {
     "name": "stdout",
     "output_type": "stream",
     "text": [
      "1/1 [==============================] - 0s 48ms/step\n"
     ]
    },
    {
     "data": {
      "text/plain": [
       "array([[9.9998987e-01, 1.0157097e-05, 5.2974464e-10]], dtype=float32)"
      ]
     },
     "execution_count": 102,
     "metadata": {},
     "output_type": "execute_result"
    }
   ],
   "source": [
    "# negative, neutral, positive\n",
    "d = preprocess('A man was killed in a Cybertruck crash in Texas early Monday morning.')\n",
    "pred = model.predict([[d]])\n",
    "pred"
   ]
  },
  {
   "cell_type": "code",
   "execution_count": 89,
   "id": "326f456c-e04d-4f3c-831b-05184b6f5e5e",
   "metadata": {},
   "outputs": [
    {
     "name": "stderr",
     "output_type": "stream",
     "text": [
      "WARNING:absl:Found untraced functions such as _jit_compiled_convolution_op while saving (showing 1 of 1). These functions will not be directly callable after loading.\n"
     ]
    },
    {
     "name": "stdout",
     "output_type": "stream",
     "text": [
      "INFO:tensorflow:Assets written to: assets\n"
     ]
    },
    {
     "name": "stderr",
     "output_type": "stream",
     "text": [
      "INFO:tensorflow:Assets written to: assets\n"
     ]
    }
   ],
   "source": [
    "model.save('')"
   ]
  },
  {
   "cell_type": "code",
   "execution_count": null,
   "id": "c0a6b895-6096-488e-997b-6ac3d396b952",
   "metadata": {},
   "outputs": [],
   "source": []
  }
 ],
 "metadata": {
  "kernelspec": {
   "display_name": "Python 3 (ipykernel)",
   "language": "python",
   "name": "python3"
  },
  "language_info": {
   "codemirror_mode": {
    "name": "ipython",
    "version": 3
   },
   "file_extension": ".py",
   "mimetype": "text/x-python",
   "name": "python",
   "nbconvert_exporter": "python",
   "pygments_lexer": "ipython3",
   "version": "3.8.19"
  }
 },
 "nbformat": 4,
 "nbformat_minor": 5
}
